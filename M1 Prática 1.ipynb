{
  "nbformat": 4,
  "nbformat_minor": 0,
  "metadata": {
    "colab": {
      "provenance": []
    },
    "kernelspec": {
      "name": "python3",
      "display_name": "Python 3"
    },
    "language_info": {
      "name": "python"
    }
  },
  "cells": [
    {
      "cell_type": "markdown",
      "source": [
        "# **Uso o SQLITEONLINE!**"
      ],
      "metadata": {
        "id": "Po6ugkdRHGrK"
      }
    },
    {
      "cell_type": "markdown",
      "source": [
        "# **1**"
      ],
      "metadata": {
        "id": "izDYnr9NHZdK"
      }
    },
    {
      "cell_type": "code",
      "execution_count": null,
      "metadata": {
        "id": "efL1mAI2HFEQ"
      },
      "outputs": [],
      "source": [
        "CREATE TABLE clientes (\n",
        "  id INTEGER PRIMARY KEY,\n",
        "  idade INTEGER,\n",
        "  sexo TEXT,\n",
        "  dependentes INTEGER,\n",
        "  escolaridade TEXT,\n",
        "  tipo_cartao TEXT,\n",
        "  limite_credito REAL,\n",
        "  valor_transacoes_12m REAL,\n",
        "  qtd_transacoes_12m INTEGER\n",
        ");"
      ]
    },
    {
      "cell_type": "markdown",
      "source": [
        "# **2.1**"
      ],
      "metadata": {
        "id": "J8XIpjDJHxCE"
      }
    },
    {
      "cell_type": "code",
      "source": [
        "SELECT * FROM clientes"
      ],
      "metadata": {
        "id": "CDrVxuKRHHwI"
      },
      "execution_count": null,
      "outputs": []
    },
    {
      "cell_type": "markdown",
      "source": [
        "# **2.2**"
      ],
      "metadata": {
        "id": "27hsb_B4H678"
      }
    },
    {
      "cell_type": "code",
      "source": [
        "SELECT * FROM clientes LIMIT 10"
      ],
      "metadata": {
        "id": "HPH3zmLLH9EV"
      },
      "execution_count": null,
      "outputs": []
    },
    {
      "cell_type": "markdown",
      "source": [
        "# **2.3**"
      ],
      "metadata": {
        "id": "Z8QOCERKInzy"
      }
    },
    {
      "cell_type": "code",
      "source": [
        "SELECT sexo, AVG(idade) AS \"media_idade_por_sexo\"\n",
        "FROM clientes\n",
        "GROUP BY sexo;"
      ],
      "metadata": {
        "id": "k13WvvhAI55a"
      },
      "execution_count": null,
      "outputs": []
    }
  ]
}