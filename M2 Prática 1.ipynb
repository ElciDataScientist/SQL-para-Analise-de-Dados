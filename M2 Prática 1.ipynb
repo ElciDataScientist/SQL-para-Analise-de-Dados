{
  "nbformat": 4,
  "nbformat_minor": 0,
  "metadata": {
    "colab": {
      "provenance": []
    },
    "kernelspec": {
      "name": "python3",
      "display_name": "Python 3"
    },
    "language_info": {
      "name": "python"
    }
  },
  "cells": [
    {
      "cell_type": "markdown",
      "source": [
        "# **Uso o SQLITEONLINE!**"
      ],
      "metadata": {
        "id": "Po6ugkdRHGrK"
      }
    },
    {
      "cell_type": "markdown",
      "source": [
        "# **1.1**"
      ],
      "metadata": {
        "id": "izDYnr9NHZdK"
      }
    },
    {
      "cell_type": "code",
      "source": [
        "SELECT id, idade, sexo, dependentes FROM clientes;"
      ],
      "metadata": {
        "id": "T4V61FCXJ-xo"
      },
      "execution_count": null,
      "outputs": []
    },
    {
      "cell_type": "markdown",
      "source": [
        "# **1.2**"
      ],
      "metadata": {
        "id": "2qoNXY86J_2H"
      }
    },
    {
      "cell_type": "code",
      "source": [
        "SELECT id, valor_transacoes_12m\n",
        "FROM clientes\n",
        "WHERE escolaridade = 'mestrado' and sexo = 'F';"
      ],
      "metadata": {
        "id": "zQnuVdX7KGD8"
      },
      "execution_count": null,
      "outputs": []
    },
    {
      "cell_type": "markdown",
      "source": [
        "# **1.3**"
      ],
      "metadata": {
        "id": "w02bVs5-KAnC"
      }
    },
    {
      "cell_type": "code",
      "source": [
        "SELECT sexo, AVG(idade) AS \"media_idade_por_sexo\"\n",
        "FROM clientes\n",
        "GROUP BY sexo;"
      ],
      "metadata": {
        "id": "uITYaeIQKGyE"
      },
      "execution_count": null,
      "outputs": []
    },
    {
      "cell_type": "markdown",
      "source": [
        "# **2.1**"
      ],
      "metadata": {
        "id": "J8XIpjDJHxCE"
      }
    },
    {
      "cell_type": "code",
      "source": [
        "SELECT * FROM clientes;"
      ],
      "metadata": {
        "id": "n9g4VhAcKtwq"
      },
      "execution_count": null,
      "outputs": []
    },
    {
      "cell_type": "markdown",
      "source": [
        "# **3.1**"
      ],
      "metadata": {
        "id": "27hsb_B4H678"
      }
    },
    {
      "cell_type": "code",
      "source": [
        "CREATE TABLE clientes_part (\n",
        "  id INTEGER PRIMARY KEY,\n",
        "  idade INTEGER,\n",
        "  dependentes INTEGER,\n",
        "  escolaridade TEXT,\n",
        "  tipo_cartao TEXT,\n",
        "  limite_credito REAL,\n",
        "  valor_transacoes_12m REAL,\n",
        "  qtd_transacoes_12m INTEGER,\n",
        "  sexo TEXT\n",
        ");"
      ],
      "metadata": {
        "id": "pLJU6C6MKuXY"
      },
      "execution_count": null,
      "outputs": []
    },
    {
      "cell_type": "code",
      "source": [
        "PRAGMA integrity_check;\n",
        "\n",
        "PRAGMA integrity_check(clientes_part);\n",
        "\n",
        "VACUUM;"
      ],
      "metadata": {
        "id": "Nq9DtVP3MKxp"
      },
      "execution_count": null,
      "outputs": []
    },
    {
      "cell_type": "code",
      "source": [
        "SELECT * FROM clientes_part WHERE sexo = 'F';"
      ],
      "metadata": {
        "id": "mQfZtwtpMR0I"
      },
      "execution_count": null,
      "outputs": []
    },
    {
      "cell_type": "markdown",
      "source": [
        "# **3.2**"
      ],
      "metadata": {
        "id": "Z8QOCERKInzy"
      }
    },
    {
      "cell_type": "code",
      "source": [
        "SELECT id, idade, limite_credito\n",
        "FROM clientes_part\n",
        "WHERE sexo = 'M'\n",
        "ORDER BY limite_credito DESC;"
      ],
      "metadata": {
        "id": "8E-Tq8plKu8r"
      },
      "execution_count": null,
      "outputs": []
    },
    {
      "cell_type": "markdown",
      "source": [
        "# **4.1**"
      ],
      "metadata": {
        "id": "30oB90a1KklP"
      }
    },
    {
      "cell_type": "code",
      "source": [
        "ALTER TABLE clientes ADD COLUMN estado TEXT;"
      ],
      "metadata": {
        "id": "d8DO0V1oKvlg"
      },
      "execution_count": null,
      "outputs": []
    },
    {
      "cell_type": "code",
      "source": [
        "SELECT * FROM clientes;"
      ],
      "metadata": {
        "id": "qBdoSJ3ZMztg"
      },
      "execution_count": null,
      "outputs": []
    },
    {
      "cell_type": "markdown",
      "source": [
        "# **5**"
      ],
      "metadata": {
        "id": "oeM11cJMKos2"
      }
    },
    {
      "cell_type": "code",
      "source": [
        "DROP TABLE clientes;"
      ],
      "metadata": {
        "id": "fil3MFmMKwp9"
      },
      "execution_count": null,
      "outputs": []
    }
  ]
}